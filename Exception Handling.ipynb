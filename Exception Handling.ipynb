{
 "cells": [
  {
   "cell_type": "code",
   "execution_count": 1,
   "id": "b860b507",
   "metadata": {},
   "outputs": [
    {
     "name": "stdout",
     "output_type": "stream",
     "text": [
      "Enter your age: 45.6\n",
      "please check your input.\n",
      "invalid literal for int() with base 10: '45.6'\n",
      "<class 'ValueError'>\n"
     ]
    }
   ],
   "source": [
    "try:\n",
    "    age=int(input(\"Enter your age: \"))\n",
    "    if age>=18:\n",
    "        print(\"You are eligible.\")\n",
    "    else:\n",
    "        print(\"You are not eligible.\")\n",
    "except ValueError as ve:\n",
    "    print(\"please check your input.\")\n",
    "    print(ve)\n",
    "    print(type(ve))"
   ]
  },
  {
   "cell_type": "code",
   "execution_count": 2,
   "id": "37c12532",
   "metadata": {},
   "outputs": [
    {
     "name": "stdout",
     "output_type": "stream",
     "text": [
      "Enter your age: 34\n",
      "You are eligible.\n",
      "Everything went well.\n"
     ]
    }
   ],
   "source": [
    "try:\n",
    "    age=int(input(\"Enter your age: \"))\n",
    "    if age>=18:\n",
    "        print(\"You are eligible.\")\n",
    "    else:\n",
    "        print(\"You are not eligible.\")\n",
    "except ValueError as ve:\n",
    "    print(\"please check your input.\")\n",
    "    print(ve)\n",
    "    print(type(ve))\n",
    "else:\n",
    "    print(\"Everything went well.\")"
   ]
  },
  {
   "cell_type": "code",
   "execution_count": 3,
   "id": "465eda3b",
   "metadata": {},
   "outputs": [
    {
     "name": "stdout",
     "output_type": "stream",
     "text": [
      "Enter your age: 45\n",
      "You are eligible.\n",
      "Everything went well.\n",
      "wohhooo\n"
     ]
    }
   ],
   "source": [
    "try:\n",
    "    age=int(input(\"Enter your age: \"))\n",
    "    if age>=18:\n",
    "        print(\"You are eligible.\")\n",
    "    else:\n",
    "        print(\"You are not eligible.\")\n",
    "except ValueError as ve:\n",
    "    print(\"please check your input.\")\n",
    "    print(ve)\n",
    "    print(type(ve))\n",
    "else:\n",
    "    print(\"Everything went well.\")\n",
    "finally:\n",
    "    print(\"wohhooo\")"
   ]
  },
  {
   "cell_type": "code",
   "execution_count": 5,
   "id": "5a525a43",
   "metadata": {},
   "outputs": [
    {
     "name": "stdout",
     "output_type": "stream",
     "text": [
      "Enter your age: 45\n",
      "You are eligible.\n",
      "Everything went well.\n"
     ]
    }
   ],
   "source": [
    "try:\n",
    "    file=open(\"numpy.ipynb\")\n",
    "    age=int(input(\"Enter your age: \"))\n",
    "    if age>=18:\n",
    "        print(\"You are eligible.\")\n",
    "    else:\n",
    "        print(\"You are not eligible.\")\n",
    "except ValueError as ve:\n",
    "    print(\"please check your input.\")\n",
    "    print(ve)\n",
    "    print(type(ve))\n",
    "else:\n",
    "    print(\"Everything went well.\")\n",
    "finally:\n",
    "    file.close()"
   ]
  },
  {
   "cell_type": "code",
   "execution_count": 6,
   "id": "0dd6899e",
   "metadata": {},
   "outputs": [],
   "source": [
    "def bonus(age):\n",
    "    \"\"\"always enter positive age.\"\"\"\n",
    "    if(age<0):\n",
    "        raise ValueError((\"you entered negative value\"))\n",
    "    return age*1.5\n",
    "   "
   ]
  },
  {
   "cell_type": "code",
   "execution_count": 7,
   "id": "964c9db9",
   "metadata": {},
   "outputs": [
    {
     "ename": "ValueError",
     "evalue": "you entered negative value",
     "output_type": "error",
     "traceback": [
      "\u001b[1;31m---------------------------------------------------------------------------\u001b[0m",
      "\u001b[1;31mValueError\u001b[0m                                Traceback (most recent call last)",
      "Input \u001b[1;32mIn [7]\u001b[0m, in \u001b[0;36m<cell line: 1>\u001b[1;34m()\u001b[0m\n\u001b[1;32m----> 1\u001b[0m \u001b[43mbonus\u001b[49m\u001b[43m(\u001b[49m\u001b[38;5;241;43m-\u001b[39;49m\u001b[38;5;241;43m20\u001b[39;49m\u001b[43m)\u001b[49m\n",
      "Input \u001b[1;32mIn [6]\u001b[0m, in \u001b[0;36mbonus\u001b[1;34m(age)\u001b[0m\n\u001b[0;32m      2\u001b[0m \u001b[38;5;124;03m\"\"\"always enter positive age.\"\"\"\u001b[39;00m\n\u001b[0;32m      3\u001b[0m \u001b[38;5;28;01mif\u001b[39;00m(age\u001b[38;5;241m<\u001b[39m\u001b[38;5;241m0\u001b[39m):\n\u001b[1;32m----> 4\u001b[0m     \u001b[38;5;28;01mraise\u001b[39;00m \u001b[38;5;167;01mValueError\u001b[39;00m((\u001b[38;5;124m\"\u001b[39m\u001b[38;5;124myou entered negative value\u001b[39m\u001b[38;5;124m\"\u001b[39m))\n\u001b[0;32m      5\u001b[0m \u001b[38;5;28;01mreturn\u001b[39;00m age\u001b[38;5;241m*\u001b[39m\u001b[38;5;241m1.5\u001b[39m\n",
      "\u001b[1;31mValueError\u001b[0m: you entered negative value"
     ]
    }
   ],
   "source": [
    "bonus(-20)"
   ]
  },
  {
   "cell_type": "code",
   "execution_count": 8,
   "id": "9ed70ed1",
   "metadata": {},
   "outputs": [
    {
     "data": {
      "text/plain": [
       "45.0"
      ]
     },
     "execution_count": 8,
     "metadata": {},
     "output_type": "execute_result"
    }
   ],
   "source": [
    "bonus(30)"
   ]
  },
  {
   "cell_type": "code",
   "execution_count": null,
   "id": "d0140f12",
   "metadata": {},
   "outputs": [],
   "source": []
  }
 ],
 "metadata": {
  "kernelspec": {
   "display_name": "Python 3 (ipykernel)",
   "language": "python",
   "name": "python3"
  },
  "language_info": {
   "codemirror_mode": {
    "name": "ipython",
    "version": 3
   },
   "file_extension": ".py",
   "mimetype": "text/x-python",
   "name": "python",
   "nbconvert_exporter": "python",
   "pygments_lexer": "ipython3",
   "version": "3.9.12"
  }
 },
 "nbformat": 4,
 "nbformat_minor": 5
}
